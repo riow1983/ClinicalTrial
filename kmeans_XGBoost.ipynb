{
 "cells": [
  {
   "cell_type": "code",
   "execution_count": 1,
   "metadata": {},
   "outputs": [],
   "source": [
    "import os\n",
    "import pandas as pd\n",
    "import numpy as np\n",
    "import matplotlib.pyplot as plt\n",
    "from scipy import sparse\n",
    "from sklearn.cluster import spectral_clustering, KMeans\n",
    "from sklearn.decomposition import PCA\n",
    "from mpl_toolkits.mplot3d import Axes3D"
   ]
  },
  {
   "cell_type": "code",
   "execution_count": 2,
   "metadata": {},
   "outputs": [],
   "source": [
    "import seaborn as sns\n",
    "#sns.set_style(\"darkgrid\")"
   ]
  },
  {
   "cell_type": "code",
   "execution_count": 3,
   "metadata": {},
   "outputs": [],
   "source": [
    "from sklearn.model_selection import train_test_split"
   ]
  },
  {
   "cell_type": "code",
   "execution_count": 106,
   "metadata": {},
   "outputs": [],
   "source": [
    "#from sklearn.preprocessing import OneHotEncoder"
   ]
  },
  {
   "cell_type": "code",
   "execution_count": 5,
   "metadata": {},
   "outputs": [],
   "source": [
    "import xgboost as xgb"
   ]
  },
  {
   "cell_type": "code",
   "execution_count": 6,
   "metadata": {},
   "outputs": [
    {
     "name": "stderr",
     "output_type": "stream",
     "text": [
      "/opt/conda/lib/python3.6/site-packages/IPython/core/interactiveshell.py:2785: DtypeWarning: Columns (1) have mixed types. Specify dtype option on import or set low_memory=False.\n",
      "  interactivity=interactivity, compiler=compiler, result=result)\n",
      "/opt/conda/lib/python3.6/site-packages/pandas/core/indexing.py:537: SettingWithCopyWarning: \n",
      "A value is trying to be set on a copy of a slice from a DataFrame.\n",
      "Try using .loc[row_indexer,col_indexer] = value instead\n",
      "\n",
      "See the caveats in the documentation: http://pandas.pydata.org/pandas-docs/stable/indexing.html#indexing-view-versus-copy\n",
      "  self.obj[item] = s\n",
      "/opt/conda/lib/python3.6/site-packages/pandas/core/indexing.py:357: SettingWithCopyWarning: \n",
      "A value is trying to be set on a copy of a slice from a DataFrame.\n",
      "Try using .loc[row_indexer,col_indexer] = value instead\n",
      "\n",
      "See the caveats in the documentation: http://pandas.pydata.org/pandas-docs/stable/indexing.html#indexing-view-versus-copy\n",
      "  self.obj[key] = _infer_fill_value(value)\n"
     ]
    }
   ],
   "source": [
    "df = pd.read_csv('open_fda_merged.csv')\n",
    "\n",
    "## Selecting event with a serious occurence\n",
    "seriousness_df =df.loc[df[\"serious\"] == 1]\n",
    "\n",
    "## Adding a weight to event associated with death\n",
    "seriousness_df.loc[:, \"seriousnessdeath\"] = 5 * seriousness_df.loc[:, \"seriousnessdeath\"]\n",
    "\n",
    "\n",
    "## Recovering the sum of the severity type for events\n",
    "## Question: Shall we include congenital anomalies ?!?!\n",
    "seriousness_df.loc[:, \"serious_count\"] = seriousness_df[[\"seriousnesscongenitalanomali\", \n",
    "                                                  \"seriousnessdeath\", \n",
    "                                                  \"seriousnessdisabling\",\n",
    "                                                  \"seriousnesshospitalization\",\n",
    "                                                  \"seriousnesslifethreatening\",\n",
    "                                                  \"seriousnessother\"]].sum(axis=1)\n",
    "                                                  \n",
    "\n",
    "# Creating dummy matrix of drugs\n",
    "drug_df = pd.get_dummies(seriousness_df.medicinalproduct)\n",
    "drugs_columns = drug_df.columns\n",
    "\n",
    "## Merging the dataframe linking drugs and the count of adverse events\n",
    "dff = pd.merge(seriousness_df[\"reactionmeddrapt\"].reset_index(), drug_df.reset_index(), on=\"index\")\n",
    "dff.drop(labels=\"index\", axis=1, inplace=True)\n",
    "dff = dff.groupby(\"reactionmeddrapt\")[drugs_columns].max().reset_index()\n",
    "\n",
    "## Saving the dataframe\n",
    "## dff.to_csv('cleaned_output/drug_vs_fdadv_evt.csv')"
   ]
  },
  {
   "cell_type": "code",
   "execution_count": 13,
   "metadata": {},
   "outputs": [
    {
     "data": {
      "text/plain": [
       "(13910, 329)"
      ]
     },
     "execution_count": 13,
     "metadata": {},
     "output_type": "execute_result"
    }
   ],
   "source": [
    "dff.shape"
   ]
  },
  {
   "cell_type": "code",
   "execution_count": 18,
   "metadata": {},
   "outputs": [
    {
     "name": "stdout",
     "output_type": "stream",
     "text": [
      "Empty DataFrame\n",
      "Columns: [reactionmeddrapt, 5-fluorouracil, abarelix, abatacept, acebutolol, aclarubicin, actinomycin d, adalimumab, adriamycin, aldesleukin, alefacept, alemtuzumab, aliskiren, alprenolol, altretamine, ambrisentan, amiloride, aminoglutethimide, aminolevulinic acid, aminopterin, amlodipine, amrubicin, amsacrine, anagrelide, anakinra, anastrozole, apremilast, arsenic trioxide, asparaginase erwinia chrysanthemi, atenolol, atorvastatin, axitinib, azacitidine, azathioprine, basiliximab, belatacept, belimumab, benazepril, bendroflumethiazide, bepridil, betaxolol, bevantolol, bexarotene, bezafibrate, bibw 2992, bicalutamide, bisoprolol, bleomycin, bortezomib, bosentan, bosutinib, brentuximab vedotin, bumetanide, buserelin acetate, busulfan, cabazitaxel, canakinumab, candesartan, capecitabine, captopril, carboplatin, carfilzomib, carmustine, carteolol, carvedilol, catumaxomab, celecoxib, celiprolol hcl, cerivastatin, cetuximab, chlorambucil, chlorothiazide, chlorpropamide, chlorthalidone, cicletanine, cilazapril, cilnidipine, ciprofibrate, cisplatin, cladribine, clofarabine, clofibrate, clonidine, conivaptan, crizotinib, cyclophosphamide, cyclosporine, cyclothiazide, cytarabine, dacarbazine, dactinomycin, dasatinib, daunomycin, daunorubicin, decitabine, degarelix, delapril, denileukin diftitox, diazoxide, diltiazem, ...]\n",
      "Index: []\n",
      "\n",
      "[0 rows x 329 columns]\n"
     ]
    }
   ],
   "source": [
    "print(dff[dff[\"reactionmeddrapt\"].duplicated()])"
   ]
  },
  {
   "cell_type": "code",
   "execution_count": 20,
   "metadata": {},
   "outputs": [],
   "source": [
    "AEs = dff[\"reactionmeddrapt\"].tolist()"
   ]
  },
  {
   "cell_type": "code",
   "execution_count": 41,
   "metadata": {},
   "outputs": [],
   "source": [
    "dffT = dff.set_index(\"reactionmeddrapt\").T"
   ]
  },
  {
   "cell_type": "code",
   "execution_count": 42,
   "metadata": {},
   "outputs": [
    {
     "name": "stdout",
     "output_type": "stream",
     "text": [
      "reactionmeddrapt  11-beta-hydroxylase deficiency  \\\n",
      "5-fluorouracil                                 0   \n",
      "abarelix                                       0   \n",
      "abatacept                                      0   \n",
      "acebutolol                                     0   \n",
      "aclarubicin                                    0   \n",
      "\n",
      "reactionmeddrapt  17-alpha-hydroxylase deficiency  \\\n",
      "5-fluorouracil                                  0   \n",
      "abarelix                                        0   \n",
      "abatacept                                       0   \n",
      "acebutolol                                      0   \n",
      "aclarubicin                                     0   \n",
      "\n",
      "reactionmeddrapt  17-hydroxyprogesterone increased  \\\n",
      "5-fluorouracil                                   0   \n",
      "abarelix                                         0   \n",
      "abatacept                                        0   \n",
      "acebutolol                                       0   \n",
      "aclarubicin                                      0   \n",
      "\n",
      "reactionmeddrapt  5-hydroxyindolacetic acid in urine  \\\n",
      "5-fluorouracil                                     0   \n",
      "abarelix                                           0   \n",
      "abatacept                                          0   \n",
      "acebutolol                                         0   \n",
      "aclarubicin                                        0   \n",
      "\n",
      "reactionmeddrapt  5-hydroxyindolacetic acid in urine decreased  \\\n",
      "5-fluorouracil                                               0   \n",
      "abarelix                                                     0   \n",
      "abatacept                                                    0   \n",
      "acebutolol                                                   0   \n",
      "aclarubicin                                                  0   \n",
      "\n",
      "reactionmeddrapt  5-hydroxyindolacetic acid in urine increased  \\\n",
      "5-fluorouracil                                               0   \n",
      "abarelix                                                     0   \n",
      "abatacept                                                    0   \n",
      "acebutolol                                                   0   \n",
      "aclarubicin                                                  0   \n",
      "\n",
      "reactionmeddrapt  5-hydroxyindolacetic acid increased  5q minus syndrome  \\\n",
      "5-fluorouracil                                      0                  0   \n",
      "abarelix                                            0                  0   \n",
      "abatacept                                           0                  0   \n",
      "acebutolol                                          0                  0   \n",
      "aclarubicin                                         0                  0   \n",
      "\n",
      "reactionmeddrapt  abasia  abdomen crushing     ...       yellow nail syndrome  \\\n",
      "5-fluorouracil         1                 0     ...                          0   \n",
      "abarelix               0                 0     ...                          0   \n",
      "abatacept              1                 0     ...                          0   \n",
      "acebutolol             1                 0     ...                          0   \n",
      "aclarubicin            0                 0     ...                          0   \n",
      "\n",
      "reactionmeddrapt  yellow skin  yersinia bacteraemia  yersinia infection  \\\n",
      "5-fluorouracil              0                     0                   0   \n",
      "abarelix                    0                     0                   0   \n",
      "abatacept                   0                     0                   0   \n",
      "acebutolol                  0                     0                   0   \n",
      "aclarubicin                 0                     0                   0   \n",
      "\n",
      "reactionmeddrapt  yersinia test positive  yolk sac tumour site unspecified  \\\n",
      "5-fluorouracil                         0                                 0   \n",
      "abarelix                               0                                 0   \n",
      "abatacept                              0                                 0   \n",
      "acebutolol                             0                                 0   \n",
      "aclarubicin                            0                                 0   \n",
      "\n",
      "reactionmeddrapt  zika virus infection  zinc deficiency  \\\n",
      "5-fluorouracil                       0                0   \n",
      "abarelix                             0                0   \n",
      "abatacept                            0                0   \n",
      "acebutolol                           0                0   \n",
      "aclarubicin                          0                0   \n",
      "\n",
      "reactionmeddrapt  zinc sulphate turbidity increased  zygomycosis  \n",
      "5-fluorouracil                                    0            0  \n",
      "abarelix                                          0            0  \n",
      "abatacept                                         0            0  \n",
      "acebutolol                                        0            0  \n",
      "aclarubicin                                       0            0  \n",
      "\n",
      "[5 rows x 13910 columns]\n"
     ]
    }
   ],
   "source": [
    "print(dffT.head())"
   ]
  },
  {
   "cell_type": "code",
   "execution_count": 44,
   "metadata": {},
   "outputs": [],
   "source": [
    "#X = dff[drugs_columns].values\n",
    "X = dffT.values"
   ]
  },
  {
   "cell_type": "code",
   "execution_count": 45,
   "metadata": {},
   "outputs": [
    {
     "data": {
      "text/plain": [
       "array([[0, 0, 0, ..., 0, 0, 0],\n",
       "       [0, 0, 0, ..., 0, 0, 0],\n",
       "       [0, 0, 0, ..., 0, 0, 0],\n",
       "       ...,\n",
       "       [0, 0, 0, ..., 0, 0, 0],\n",
       "       [0, 0, 0, ..., 0, 0, 0],\n",
       "       [0, 0, 0, ..., 0, 0, 0]], dtype=uint8)"
      ]
     },
     "execution_count": 45,
     "metadata": {},
     "output_type": "execute_result"
    }
   ],
   "source": [
    "X"
   ]
  },
  {
   "cell_type": "code",
   "execution_count": 46,
   "metadata": {},
   "outputs": [
    {
     "data": {
      "image/png": "[encoded data removed]",
      "text/plain": [
       "<Figure size 432x288 with 1 Axes>"
      ]
     },
     "metadata": {},
     "output_type": "display_data"
    }
   ],
   "source": [
    "distortions = []\n",
    "for i in range(1, 51):\n",
    "    kmean = KMeans(n_clusters=i,\n",
    "                   n_init=100,\n",
    "                   verbose=0,\n",
    "                   n_jobs=-1)\n",
    "    kmean.fit(X)\n",
    "    distortions.append(kmean.inertia_)\n",
    "    \n",
    "plt.plot(range(1, 51), distortions, marker='o')\n",
    "plt.xlabel('Number of clusters')\n",
    "plt.ylabel('Distortion')\n",
    "plt.show()"
   ]
  },
  {
   "cell_type": "code",
   "execution_count": 47,
   "metadata": {},
   "outputs": [],
   "source": [
    "## K-means clustering of adverse events\n",
    "nb_clusters = 50\n",
    "kmean = KMeans(n_clusters = nb_clusters,\n",
    "               n_init=100,\n",
    "               verbose=0,\n",
    "               n_jobs=-1)\n",
    "\n",
    "#dff[\"cluster\"] = kmean.fit_predict(dff[drugs_columns])\n",
    "dffT[\"cluster\"] = kmean.fit_predict(X)"
   ]
  },
  {
   "cell_type": "code",
   "execution_count": 50,
   "metadata": {},
   "outputs": [
    {
     "data": {
      "text/plain": [
       "Index(['11-beta-hydroxylase deficiency', '17-alpha-hydroxylase deficiency',\n",
       "       '17-hydroxyprogesterone increased',\n",
       "       '5-hydroxyindolacetic acid in urine',\n",
       "       '5-hydroxyindolacetic acid in urine decreased',\n",
       "       '5-hydroxyindolacetic acid in urine increased',\n",
       "       '5-hydroxyindolacetic acid increased', '5q minus syndrome', 'abasia',\n",
       "       'abdomen crushing',\n",
       "       ...\n",
       "       'yellow skin', 'yersinia bacteraemia', 'yersinia infection',\n",
       "       'yersinia test positive', 'yolk sac tumour site unspecified',\n",
       "       'zika virus infection', 'zinc deficiency',\n",
       "       'zinc sulphate turbidity increased', 'zygomycosis', 'cluster'],\n",
       "      dtype='object', name='reactionmeddrapt', length=13911)"
      ]
     },
     "execution_count": 50,
     "metadata": {},
     "output_type": "execute_result"
    }
   ],
   "source": [
    "dffT.columns"
   ]
  },
  {
   "cell_type": "code",
   "execution_count": 51,
   "metadata": {},
   "outputs": [
    {
     "data": {
      "text/plain": [
       "Index(['5-fluorouracil', 'abarelix', 'abatacept', 'acebutolol', 'aclarubicin',\n",
       "       'actinomycin d', 'adalimumab', 'adriamycin', 'aldesleukin', 'alefacept',\n",
       "       ...\n",
       "       'vandetanib', 'vemurafenib', 'verapamil', 'vinblastine', 'vincristine',\n",
       "       'vindesine', 'vinflunine', 'vinorelbine', 'vismodegib', 'vorinostat'],\n",
       "      dtype='object', length=328)"
      ]
     },
     "execution_count": 51,
     "metadata": {},
     "output_type": "execute_result"
    }
   ],
   "source": [
    "dffT.index"
   ]
  },
  {
   "cell_type": "code",
   "execution_count": 52,
   "metadata": {},
   "outputs": [
    {
     "data": {
      "text/plain": [
       "Index(['Unnamed: 0', 'safetyreportid', 'drugcharacterization',\n",
       "       'medicinalproduct', 'patientonsetage', 'patientonsetageunit',\n",
       "       'patientsex', 'patientweight', 'patient_age', 'reactionmeddrapt',\n",
       "       'receiptdate', 'serious', 'seriousnesscongenitalanomali',\n",
       "       'seriousnessdeath', 'seriousnessdisabling',\n",
       "       'seriousnesshospitalization', 'seriousnesslifethreatening',\n",
       "       'seriousnessother', 'serious_count'],\n",
       "      dtype='object')"
      ]
     },
     "execution_count": 52,
     "metadata": {},
     "output_type": "execute_result"
    }
   ],
   "source": [
    "seriousness_df.columns"
   ]
  },
  {
   "cell_type": "code",
   "execution_count": 53,
   "metadata": {},
   "outputs": [
    {
     "data": {
      "text/plain": [
       "0      clonidine\n",
       "1    simvastatin\n",
       "2    simvastatin\n",
       "3     belatacept\n",
       "4      diltiazem\n",
       "Name: medicinalproduct, dtype: object"
      ]
     },
     "execution_count": 53,
     "metadata": {},
     "output_type": "execute_result"
    }
   ],
   "source": [
    "seriousness_df[\"medicinalproduct\"].head()"
   ]
  },
  {
   "cell_type": "code",
   "execution_count": 54,
   "metadata": {},
   "outputs": [
    {
     "data": {
      "text/plain": [
       "(3705466, 19)"
      ]
     },
     "execution_count": 54,
     "metadata": {},
     "output_type": "execute_result"
    }
   ],
   "source": [
    "seriousness_df.shape"
   ]
  },
  {
   "cell_type": "code",
   "execution_count": 55,
   "metadata": {},
   "outputs": [
    {
     "data": {
      "text/plain": [
       "(328, 13911)"
      ]
     },
     "execution_count": 55,
     "metadata": {},
     "output_type": "execute_result"
    }
   ],
   "source": [
    "dffT.shape"
   ]
  },
  {
   "cell_type": "code",
   "execution_count": 60,
   "metadata": {},
   "outputs": [],
   "source": [
    "dffT.reset_index(inplace=True)\n",
    "dffT.rename(columns={\"index\":\"medicinalproduct\"}, inplace=True)"
   ]
  },
  {
   "cell_type": "code",
   "execution_count": 61,
   "metadata": {},
   "outputs": [
    {
     "data": {
      "text/plain": [
       "(3705466, 20)"
      ]
     },
     "execution_count": 61,
     "metadata": {},
     "output_type": "execute_result"
    }
   ],
   "source": [
    "seriousness_dff = pd.merge(seriousness_df, dffT[[\"medicinalproduct\", \"cluster\"]], on=\"medicinalproduct\")\n",
    "\n",
    "seriousness_dff.shape\n",
    "## Saving the dataframe\n",
    "## seriousness_df.to_csv('1.Clustering/open_fda_merged_cluster.csv')"
   ]
  },
  {
   "cell_type": "code",
   "execution_count": 63,
   "metadata": {},
   "outputs": [
    {
     "data": {
      "text/plain": [
       "Index(['Unnamed: 0', 'safetyreportid', 'drugcharacterization',\n",
       "       'medicinalproduct', 'patientonsetage', 'patientonsetageunit',\n",
       "       'patientsex', 'patientweight', 'patient_age', 'reactionmeddrapt',\n",
       "       'receiptdate', 'serious', 'seriousnesscongenitalanomali',\n",
       "       'seriousnessdeath', 'seriousnessdisabling',\n",
       "       'seriousnesshospitalization', 'seriousnesslifethreatening',\n",
       "       'seriousnessother', 'serious_count', 'cluster'],\n",
       "      dtype='object')"
      ]
     },
     "execution_count": 63,
     "metadata": {},
     "output_type": "execute_result"
    }
   ],
   "source": [
    "seriousness_dff.columns"
   ]
  },
  {
   "cell_type": "code",
   "execution_count": 62,
   "metadata": {},
   "outputs": [
    {
     "name": "stdout",
     "output_type": "stream",
     "text": [
      "         Unnamed: 0 safetyreportid  drugcharacterization   medicinalproduct  \\\n",
      "3705461     4061978       14026748                   2.0  sulfametopyrazine   \n",
      "3705462     4061979       14026748                   2.0  sulfametopyrazine   \n",
      "3705463     4061980       14026748                   2.0  sulfametopyrazine   \n",
      "3705464     4061981       14026748                   2.0  sulfametopyrazine   \n",
      "3705465     4145867       14194587                   1.0         lonidamine   \n",
      "\n",
      "         patientonsetage  patientonsetageunit  patientsex  patientweight  \\\n",
      "3705461             53.0                801.0         2.0          73.47   \n",
      "3705462             53.0                801.0         2.0          73.47   \n",
      "3705463             53.0                801.0         2.0          73.47   \n",
      "3705464             53.0                801.0         2.0          73.47   \n",
      "3705465              NaN                  NaN         NaN            NaN   \n",
      "\n",
      "         patient_age       reactionmeddrapt receiptdate  serious  \\\n",
      "3705461         53.0  hallucinations, mixed  2017-09-29        1   \n",
      "3705462         53.0                snoring  2017-09-29        1   \n",
      "3705463         53.0          hyperhidrosis  2017-09-29        1   \n",
      "3705464         53.0        hospitalisation  2017-09-29        1   \n",
      "3705465          NaN             somnolence  2017-11-16        1   \n",
      "\n",
      "         seriousnesscongenitalanomali  seriousnessdeath  seriousnessdisabling  \\\n",
      "3705461                             0                 0                 False   \n",
      "3705462                             0                 0                 False   \n",
      "3705463                             0                 0                 False   \n",
      "3705464                             0                 0                 False   \n",
      "3705465                             0                 0                 False   \n",
      "\n",
      "         seriousnesshospitalization  seriousnesslifethreatening  \\\n",
      "3705461                        True                       False   \n",
      "3705462                        True                       False   \n",
      "3705463                        True                       False   \n",
      "3705464                        True                       False   \n",
      "3705465                       False                       False   \n",
      "\n",
      "         seriousnessother  serious_count  cluster  \n",
      "3705461              True            2.0       25  \n",
      "3705462              True            2.0       25  \n",
      "3705463              True            2.0       25  \n",
      "3705464              True            2.0       25  \n",
      "3705465              True            1.0       25  \n"
     ]
    }
   ],
   "source": [
    "print(seriousness_dff.tail())"
   ]
  },
  {
   "cell_type": "markdown",
   "metadata": {},
   "source": [
    "# PCA (n = 3) on cluster"
   ]
  },
  {
   "cell_type": "code",
   "execution_count": 82,
   "metadata": {},
   "outputs": [],
   "source": [
    "pca = PCA(n_components=3)"
   ]
  },
  {
   "cell_type": "code",
   "execution_count": 83,
   "metadata": {},
   "outputs": [],
   "source": [
    "X_reduced = pca.fit_transform(X)"
   ]
  },
  {
   "cell_type": "code",
   "execution_count": 84,
   "metadata": {},
   "outputs": [
    {
     "data": {
      "text/plain": [
       "(328, 13910)"
      ]
     },
     "execution_count": 84,
     "metadata": {},
     "output_type": "execute_result"
    }
   ],
   "source": [
    "X.shape"
   ]
  },
  {
   "cell_type": "code",
   "execution_count": 85,
   "metadata": {},
   "outputs": [
    {
     "data": {
      "text/plain": [
       "(3, 13910)"
      ]
     },
     "execution_count": 85,
     "metadata": {},
     "output_type": "execute_result"
    }
   ],
   "source": [
    "pca.components_.shape"
   ]
  },
  {
   "cell_type": "code",
   "execution_count": 86,
   "metadata": {},
   "outputs": [
    {
     "data": {
      "text/plain": [
       "13910"
      ]
     },
     "execution_count": 86,
     "metadata": {},
     "output_type": "execute_result"
    }
   ],
   "source": [
    "len(AEs)"
   ]
  },
  {
   "cell_type": "code",
   "execution_count": 87,
   "metadata": {},
   "outputs": [],
   "source": [
    "df_comp = pd.DataFrame(pca.components_, columns=AEs)"
   ]
  },
  {
   "cell_type": "code",
   "execution_count": 88,
   "metadata": {},
   "outputs": [],
   "source": [
    "df_comp.reset_index(inplace=True)\n",
    "df_comp.rename(columns={\"index\":\"PCA_feature\"}, inplace=True)"
   ]
  },
  {
   "cell_type": "code",
   "execution_count": 89,
   "metadata": {},
   "outputs": [
    {
     "name": "stdout",
     "output_type": "stream",
     "text": [
      "   PCA_feature  11-beta-hydroxylase deficiency  \\\n",
      "0            0                        0.000596   \n",
      "1            1                       -0.000465   \n",
      "2            2                        0.003282   \n",
      "\n",
      "   17-alpha-hydroxylase deficiency  17-hydroxyprogesterone increased  \\\n",
      "0                         0.001450                          0.000266   \n",
      "1                         0.004212                         -0.000356   \n",
      "2                         0.001016                          0.000696   \n",
      "\n",
      "   5-hydroxyindolacetic acid in urine  \\\n",
      "0                            0.000502   \n",
      "1                            0.001537   \n",
      "2                           -0.000172   \n",
      "\n",
      "   5-hydroxyindolacetic acid in urine decreased  \\\n",
      "0                                      0.002132   \n",
      "1                                      0.004289   \n",
      "2                                     -0.000123   \n",
      "\n",
      "   5-hydroxyindolacetic acid in urine increased  \\\n",
      "0                                      0.001136   \n",
      "1                                      0.002601   \n",
      "2                                      0.000147   \n",
      "\n",
      "   5-hydroxyindolacetic acid increased  5q minus syndrome    abasia  \\\n",
      "0                             0.001517           0.005237  0.020880   \n",
      "1                             0.004159           0.000850 -0.028240   \n",
      "2                            -0.000690           0.016573 -0.009765   \n",
      "\n",
      "      ...       yellow nail syndrome  yellow skin  yersinia bacteraemia  \\\n",
      "0     ...                   0.001286     0.016165              0.000545   \n",
      "1     ...                   0.003235     0.008467              0.001757   \n",
      "2     ...                  -0.000568    -0.011274              0.000591   \n",
      "\n",
      "   yersinia infection  yersinia test positive  \\\n",
      "0            0.002088                0.000973   \n",
      "1            0.001617                0.001463   \n",
      "2            0.005730                0.003275   \n",
      "\n",
      "   yolk sac tumour site unspecified  zika virus infection  zinc deficiency  \\\n",
      "0                          0.000533              0.001615         0.001277   \n",
      "1                         -0.001667              0.004390         0.003098   \n",
      "2                          0.004277              0.000347        -0.000587   \n",
      "\n",
      "   zinc sulphate turbidity increased  zygomycosis  \n",
      "0                           0.000611     0.007424  \n",
      "1                           0.002343    -0.006827  \n",
      "2                           0.001508     0.037831  \n",
      "\n",
      "[3 rows x 13911 columns]\n"
     ]
    }
   ],
   "source": [
    "print(df_comp)"
   ]
  },
  {
   "cell_type": "code",
   "execution_count": 90,
   "metadata": {},
   "outputs": [
    {
     "data": {
      "text/plain": [
       "<matplotlib.axes._subplots.AxesSubplot at 0x7fb55702ad30>"
      ]
     },
     "execution_count": 90,
     "metadata": {},
     "output_type": "execute_result"
    },
    {
     "data": {
      "image/png": "[encoded data removed]",
      "text/plain": [
       "<Figure size 432x288 with 1 Axes>"
      ]
     },
     "metadata": {},
     "output_type": "display_data"
    }
   ],
   "source": [
    "# visualize pca with bar chart\n",
    "sns.barplot(y=AEs[0], x=\"PCA_feature\", data=df_comp)"
   ]
  },
  {
   "cell_type": "code",
   "execution_count": 91,
   "metadata": {},
   "outputs": [
    {
     "data": {
      "text/plain": [
       "array([[ 0.00059617,  0.00144993,  0.00026596, ...,  0.00127669,\n",
       "         0.00061118,  0.00742373],\n",
       "       [-0.000465  ,  0.00421169, -0.00035605, ...,  0.0030979 ,\n",
       "         0.00234271, -0.00682684],\n",
       "       [ 0.0032822 ,  0.00101604,  0.00069644, ..., -0.0005872 ,\n",
       "         0.00150763,  0.03783105]])"
      ]
     },
     "execution_count": 91,
     "metadata": {},
     "output_type": "execute_result"
    }
   ],
   "source": [
    "pca.components_"
   ]
  },
  {
   "cell_type": "code",
   "execution_count": 95,
   "metadata": {},
   "outputs": [
    {
     "data": {
      "text/plain": [
       "array([[ 11.62352886,  -8.44877114,   3.16860195],\n",
       "       [-16.39468864,   6.01672593,   1.02064978],\n",
       "       [ 19.93009537,   0.2254063 ,  -3.84692103],\n",
       "       [  1.77910871,  -5.35515646,  -5.82571997],\n",
       "       [-14.91041903,   4.13790727,   1.28800806]])"
      ]
     },
     "execution_count": 95,
     "metadata": {},
     "output_type": "execute_result"
    }
   ],
   "source": [
    "X_reduced[:5]"
   ]
  },
  {
   "cell_type": "code",
   "execution_count": 96,
   "metadata": {},
   "outputs": [],
   "source": [
    "y = dffT[\"cluster\"].values"
   ]
  },
  {
   "cell_type": "code",
   "execution_count": 97,
   "metadata": {},
   "outputs": [
    {
     "data": {
      "text/plain": [
       "<matplotlib.axes._subplots.AxesSubplot at 0x7fb556f8d048>"
      ]
     },
     "execution_count": 97,
     "metadata": {},
     "output_type": "execute_result"
    },
    {
     "data": {
      "image/png": "[encoded data removed]",
      "text/plain": [
       "<Figure size 432x288 with 1 Axes>"
      ]
     },
     "metadata": {},
     "output_type": "display_data"
    }
   ],
   "source": [
    "sns.distplot(y)"
   ]
  },
  {
   "cell_type": "code",
   "execution_count": 99,
   "metadata": {},
   "outputs": [
    {
     "data": {
      "text/plain": [
       "<matplotlib.colorbar.Colorbar at 0x7fb556d860f0>"
      ]
     },
     "execution_count": 99,
     "metadata": {},
     "output_type": "execute_result"
    },
    {
     "data": {
      "image/png": "[encoded data removed]",
      "text/plain": [
       "<Figure size 576x432 with 2 Axes>"
      ]
     },
     "metadata": {},
     "output_type": "display_data"
    }
   ],
   "source": [
    "fig = plt.figure(1, figsize=(8, 6))\n",
    "ax = Axes3D(fig, elev=-150, azim=110)\n",
    "\n",
    "p = ax.scatter(X_reduced[:, 0], X_reduced[:, 1], X_reduced[:, 2],\n",
    "               c=y,\n",
    "               #cmap=plt.cm.Set1,\n",
    "               #edgecolor='k', \n",
    "               s=40, alpha=0.5)\n",
    "\n",
    "ax.set_title(\"PCA analysis (components = 3)\")\n",
    "ax.set_xlabel(\"1st eigenvector\")\n",
    "ax.w_xaxis.set_ticklabels([])\n",
    "ax.set_ylabel(\"2nd eigenvector\")\n",
    "ax.w_yaxis.set_ticklabels([])\n",
    "ax.set_zlabel(\"3rd eigenvector\")\n",
    "ax.w_zaxis.set_ticklabels([])\n",
    "\n",
    "fig.colorbar(p)"
   ]
  },
  {
   "cell_type": "markdown",
   "metadata": {},
   "source": [
    "# XGBoost on seriousness_dff to predict cluster based on clinical trial and drug features"
   ]
  },
  {
   "cell_type": "code",
   "execution_count": 101,
   "metadata": {},
   "outputs": [
    {
     "name": "stdout",
     "output_type": "stream",
     "text": [
      "         Unnamed: 0 safetyreportid  drugcharacterization   medicinalproduct  \\\n",
      "3705461     4061978       14026748                   2.0  sulfametopyrazine   \n",
      "3705462     4061979       14026748                   2.0  sulfametopyrazine   \n",
      "3705463     4061980       14026748                   2.0  sulfametopyrazine   \n",
      "3705464     4061981       14026748                   2.0  sulfametopyrazine   \n",
      "3705465     4145867       14194587                   1.0         lonidamine   \n",
      "\n",
      "         patientonsetage  patientonsetageunit  patientsex  patientweight  \\\n",
      "3705461             53.0                801.0         2.0          73.47   \n",
      "3705462             53.0                801.0         2.0          73.47   \n",
      "3705463             53.0                801.0         2.0          73.47   \n",
      "3705464             53.0                801.0         2.0          73.47   \n",
      "3705465              NaN                  NaN         NaN            NaN   \n",
      "\n",
      "         patient_age       reactionmeddrapt receiptdate  serious  \\\n",
      "3705461         53.0  hallucinations, mixed  2017-09-29        1   \n",
      "3705462         53.0                snoring  2017-09-29        1   \n",
      "3705463         53.0          hyperhidrosis  2017-09-29        1   \n",
      "3705464         53.0        hospitalisation  2017-09-29        1   \n",
      "3705465          NaN             somnolence  2017-11-16        1   \n",
      "\n",
      "         seriousnesscongenitalanomali  seriousnessdeath  seriousnessdisabling  \\\n",
      "3705461                             0                 0                 False   \n",
      "3705462                             0                 0                 False   \n",
      "3705463                             0                 0                 False   \n",
      "3705464                             0                 0                 False   \n",
      "3705465                             0                 0                 False   \n",
      "\n",
      "         seriousnesshospitalization  seriousnesslifethreatening  \\\n",
      "3705461                        True                       False   \n",
      "3705462                        True                       False   \n",
      "3705463                        True                       False   \n",
      "3705464                        True                       False   \n",
      "3705465                       False                       False   \n",
      "\n",
      "         seriousnessother  serious_count  cluster  \n",
      "3705461              True            2.0       25  \n",
      "3705462              True            2.0       25  \n",
      "3705463              True            2.0       25  \n",
      "3705464              True            2.0       25  \n",
      "3705465              True            1.0       25  \n"
     ]
    }
   ],
   "source": [
    "print(seriousness_dff.tail())"
   ]
  },
  {
   "cell_type": "code",
   "execution_count": 102,
   "metadata": {},
   "outputs": [
    {
     "data": {
      "text/plain": [
       "Index(['Unnamed: 0', 'safetyreportid', 'drugcharacterization',\n",
       "       'medicinalproduct', 'patientonsetage', 'patientonsetageunit',\n",
       "       'patientsex', 'patientweight', 'patient_age', 'reactionmeddrapt',\n",
       "       'receiptdate', 'serious', 'seriousnesscongenitalanomali',\n",
       "       'seriousnessdeath', 'seriousnessdisabling',\n",
       "       'seriousnesshospitalization', 'seriousnesslifethreatening',\n",
       "       'seriousnessother', 'serious_count', 'cluster'],\n",
       "      dtype='object')"
      ]
     },
     "execution_count": 102,
     "metadata": {},
     "output_type": "execute_result"
    }
   ],
   "source": [
    "seriousness_dff.columns"
   ]
  },
  {
   "cell_type": "code",
   "execution_count": 136,
   "metadata": {},
   "outputs": [],
   "source": [
    "features = ['drugcharacterization', 'medicinalproduct', 'patientonsetage', 'patientonsetageunit',\n",
    "            'patientsex', 'patientweight', 'patient_age',\n",
    "            'serious', 'seriousnesscongenitalanomali',\n",
    "            'seriousnessdeath', 'seriousnessdisabling',\n",
    "            'seriousnesshospitalization', 'seriousnesslifethreatening',\n",
    "            'seriousnessother', 'serious_count', 'cluster']"
   ]
  },
  {
   "cell_type": "code",
   "execution_count": 138,
   "metadata": {},
   "outputs": [],
   "source": [
    "sdf = seriousness_dff[features]\n",
    "sdfn = sdf.dropna()"
   ]
  },
  {
   "cell_type": "code",
   "execution_count": 139,
   "metadata": {},
   "outputs": [
    {
     "data": {
      "text/plain": [
       "(873102, 16)"
      ]
     },
     "execution_count": 139,
     "metadata": {},
     "output_type": "execute_result"
    }
   ],
   "source": [
    "sdfn.shape"
   ]
  },
  {
   "cell_type": "code",
   "execution_count": 142,
   "metadata": {},
   "outputs": [
    {
     "name": "stderr",
     "output_type": "stream",
     "text": [
      "/opt/conda/lib/python3.6/site-packages/ipykernel_launcher.py:2: SettingWithCopyWarning: \n",
      "A value is trying to be set on a copy of a slice from a DataFrame\n",
      "\n",
      "See the caveats in the documentation: http://pandas.pydata.org/pandas-docs/stable/indexing.html#indexing-view-versus-copy\n",
      "  \n"
     ]
    }
   ],
   "source": [
    "y_new = sdfn[\"cluster\"].values\n",
    "sdfn.drop(\"cluster\", 1, inplace=True)"
   ]
  },
  {
   "cell_type": "code",
   "execution_count": 143,
   "metadata": {},
   "outputs": [],
   "source": [
    "medprod = pd.get_dummies(sdfn[\"medicinalproduct\"]).values"
   ]
  },
  {
   "cell_type": "code",
   "execution_count": 144,
   "metadata": {},
   "outputs": [
    {
     "data": {
      "text/plain": [
       "(873102, 304)"
      ]
     },
     "execution_count": 144,
     "metadata": {},
     "output_type": "execute_result"
    }
   ],
   "source": [
    "medprod.shape"
   ]
  },
  {
   "cell_type": "code",
   "execution_count": 145,
   "metadata": {},
   "outputs": [],
   "source": [
    "sdfn2 = sdfn.drop(\"medicinalproduct\", 1)"
   ]
  },
  {
   "cell_type": "code",
   "execution_count": 146,
   "metadata": {},
   "outputs": [
    {
     "data": {
      "text/plain": [
       "(873102, 318)"
      ]
     },
     "execution_count": 146,
     "metadata": {},
     "output_type": "execute_result"
    }
   ],
   "source": [
    "X_new = np.concatenate((sdfn2.values, medprod), axis=1)\n",
    "X_new.shape"
   ]
  },
  {
   "cell_type": "code",
   "execution_count": 148,
   "metadata": {},
   "outputs": [],
   "source": [
    "X_train, X_test, y_train, y_test = train_test_split(X_new, y_new, test_size=0.33, random_state=42)"
   ]
  },
  {
   "cell_type": "code",
   "execution_count": 149,
   "metadata": {},
   "outputs": [
    {
     "data": {
      "text/plain": [
       "(584978, 318)"
      ]
     },
     "execution_count": 149,
     "metadata": {},
     "output_type": "execute_result"
    }
   ],
   "source": [
    "X_train.shape"
   ]
  },
  {
   "cell_type": "code",
   "execution_count": 150,
   "metadata": {},
   "outputs": [
    {
     "data": {
      "text/plain": [
       "(288124, 318)"
      ]
     },
     "execution_count": 150,
     "metadata": {},
     "output_type": "execute_result"
    }
   ],
   "source": [
    "X_test.shape"
   ]
  },
  {
   "cell_type": "code",
   "execution_count": 151,
   "metadata": {},
   "outputs": [],
   "source": [
    "dtrain = xgb.DMatrix(X_train, label=y_train)\n",
    "dtest = xgb.DMatrix(X_test, label=y_test)"
   ]
  },
  {
   "cell_type": "code",
   "execution_count": 153,
   "metadata": {},
   "outputs": [],
   "source": [
    "# specify parameters via map\n",
    "param = {'max_depth':6, \n",
    "         'eta':0.3, \n",
    "         'silent':0, \n",
    "         'objective':'multi:softmax',\n",
    "         'num_class':50}\n",
    "\n",
    "# n estimators\n",
    "num_round = 10\n",
    "\n",
    "bst = xgb.train(param, dtrain, num_round)"
   ]
  },
  {
   "cell_type": "code",
   "execution_count": 154,
   "metadata": {},
   "outputs": [
    {
     "data": {
      "text/plain": [
       "<matplotlib.axes._subplots.AxesSubplot at 0x7fb54e751f98>"
      ]
     },
     "execution_count": 154,
     "metadata": {},
     "output_type": "execute_result"
    },
    {
     "data": {
      "image/png": "[encoded data removed]",
      "text/plain": [
       "<Figure size 432x288 with 1 Axes>"
      ]
     },
     "metadata": {},
     "output_type": "display_data"
    }
   ],
   "source": [
    "xgb.plot_importance(bst)"
   ]
  },
  {
   "cell_type": "code",
   "execution_count": 155,
   "metadata": {},
   "outputs": [
    {
     "data": {
      "text/plain": [
       "'\\nfig = plt.figure(1, figsize=(8, 6))\\nax = Axes3D(fig, elev=-150, azim=110)\\n\\np = ax.scatter(X_train[:, 0], X_train[:, 2], X_train[:, 4],\\n               c=y_train,\\n               #cmap=plt.cm.Set1,\\n               #edgecolor=\\'k\\', \\n               s=40, alpha=0.2)\\n\\nax.set_title(\"PCA analysis (components = 10)\")\\nax.set_xlabel(\"f0\")\\nax.w_xaxis.set_ticklabels([])\\nax.set_ylabel(\"f2\")\\nax.w_yaxis.set_ticklabels([])\\nax.set_zlabel(\"f4\")\\nax.w_zaxis.set_ticklabels([])\\n\\nfig.colorbar(p)\\n'"
      ]
     },
     "execution_count": 155,
     "metadata": {},
     "output_type": "execute_result"
    }
   ],
   "source": [
    "\"\"\"\n",
    "fig = plt.figure(1, figsize=(8, 6))\n",
    "ax = Axes3D(fig, elev=-150, azim=110)\n",
    "\n",
    "p = ax.scatter(X_train[:, 0], X_train[:, 2], X_train[:, 4],\n",
    "               c=y_train,\n",
    "               #cmap=plt.cm.Set1,\n",
    "               #edgecolor='k', \n",
    "               s=40, alpha=0.2)\n",
    "\n",
    "ax.set_title(\"PCA analysis (components = 10)\")\n",
    "ax.set_xlabel(\"f0\")\n",
    "ax.w_xaxis.set_ticklabels([])\n",
    "ax.set_ylabel(\"f2\")\n",
    "ax.w_yaxis.set_ticklabels([])\n",
    "ax.set_zlabel(\"f4\")\n",
    "ax.w_zaxis.set_ticklabels([])\n",
    "\n",
    "fig.colorbar(p)\n",
    "\"\"\""
   ]
  },
  {
   "cell_type": "code",
   "execution_count": null,
   "metadata": {},
   "outputs": [],
   "source": [
    "######## prediction"
   ]
  },
  {
   "cell_type": "code",
   "execution_count": 156,
   "metadata": {},
   "outputs": [],
   "source": [
    "ypred = bst.predict(dtest)"
   ]
  },
  {
   "cell_type": "code",
   "execution_count": 157,
   "metadata": {},
   "outputs": [
    {
     "data": {
      "text/plain": [
       "array([34., 15., 17., ..., 11., 13., 16.], dtype=float32)"
      ]
     },
     "execution_count": 157,
     "metadata": {},
     "output_type": "execute_result"
    }
   ],
   "source": [
    "ypred"
   ]
  },
  {
   "cell_type": "code",
   "execution_count": 158,
   "metadata": {},
   "outputs": [
    {
     "data": {
      "text/plain": [
       "(288124,)"
      ]
     },
     "execution_count": 158,
     "metadata": {},
     "output_type": "execute_result"
    }
   ],
   "source": [
    "ypred.shape"
   ]
  },
  {
   "cell_type": "code",
   "execution_count": 159,
   "metadata": {},
   "outputs": [
    {
     "data": {
      "text/plain": [
       "(288124,)"
      ]
     },
     "execution_count": 159,
     "metadata": {},
     "output_type": "execute_result"
    }
   ],
   "source": [
    "y_test.shape"
   ]
  },
  {
   "cell_type": "code",
   "execution_count": 160,
   "metadata": {},
   "outputs": [
    {
     "data": {
      "text/plain": [
       "0.9986707112215574"
      ]
     },
     "execution_count": 160,
     "metadata": {},
     "output_type": "execute_result"
    }
   ],
   "source": [
    "np.mean(ypred == y_test)"
   ]
  }
 ],
 "metadata": {
  "kernelspec": {
   "display_name": "Python 3",
   "language": "python",
   "name": "python3"
  },
  "language_info": {
   "codemirror_mode": {
    "name": "ipython",
    "version": 3
   },
   "file_extension": ".py",
   "mimetype": "text/x-python",
   "name": "python",
   "nbconvert_exporter": "python",
   "pygments_lexer": "ipython3",
   "version": "3.6.4"
  },
  "toc": {
   "base_numbering": 1,
   "nav_menu": {},
   "number_sections": false,
   "sideBar": false,
   "skip_h1_title": false,
   "title_cell": "Table of Contents",
   "title_sidebar": "Contents",
   "toc_cell": false,
   "toc_position": {},
   "toc_section_display": false,
   "toc_window_display": false
  }
 },
 "nbformat": 4,
 "nbformat_minor": 2
}
